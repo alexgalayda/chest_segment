{
 "cells": [
  {
   "cell_type": "code",
   "execution_count": 1,
   "metadata": {},
   "outputs": [],
   "source": [
    "%load_ext autoreload\n",
    "%autoreload 2"
   ]
  },
  {
   "cell_type": "markdown",
   "metadata": {},
   "source": [
    "# Main\n",
    "\n",
    "There is a better way to train or test model with:\n",
    "```\n",
    "uv run run.py mode=train\n",
    "```\n",
    "\n",
    "But if you want you can run it from this jupyter notebook"
   ]
  },
  {
   "cell_type": "code",
   "execution_count": null,
   "metadata": {},
   "outputs": [],
   "source": [
    "from omegaconf import OmegaConf\n",
    "from chest_segment.dataset import (\n",
    "    ChestDataset,\n",
    "    ChestDatasetConfig,\n",
    "    get_dataloaders,\n",
    ")\n",
    "from chest_segment.transforms import (\n",
    "    get_mask_transforms,\n",
    "    get_image_transforms,\n",
    "    ChestMaskTransformsConfig,\n",
    "    ChestImageTransformsConfig,\n",
    "    get_all_transforms,\n",
    "    ChestAllTransformsConfig,\n",
    ")\n",
    "from chest_segment.models import get_model_from_config\n",
    "from chest_segment.utils import get_optimizer, get_loss, get_metrics\n",
    "from chest_segment.train import train\n",
    "from chest_segment.test import test, evaluate, visualize"
   ]
  },
  {
   "cell_type": "markdown",
   "metadata": {},
   "source": [
    "# Config\n",
    "\n",
    "You can change any params that you want in config"
   ]
  },
  {
   "cell_type": "code",
   "execution_count": null,
   "metadata": {},
   "outputs": [],
   "source": [
    "cfg = OmegaConf.load(\"config/config.yaml\")\n",
    "print(OmegaConf.to_yaml(cfg))"
   ]
  },
  {
   "cell_type": "markdown",
   "metadata": {},
   "source": [
    "# Dataset"
   ]
  },
  {
   "cell_type": "code",
   "execution_count": 11,
   "metadata": {},
   "outputs": [],
   "source": [
    "dataset_config = ChestDatasetConfig(**cfg.dataset)\n",
    "dataset = ChestDataset(dataset_config)"
   ]
  },
  {
   "cell_type": "markdown",
   "metadata": {},
   "source": [
    "# Train\n",
    "\n",
    "Logs also save in logs dir. And you can run it with Tensorbnoard"
   ]
  },
  {
   "cell_type": "code",
   "execution_count": 12,
   "metadata": {},
   "outputs": [],
   "source": [
    "dataset.set_transforms(\n",
    "    image_transforms=get_image_transforms(\n",
    "        ChestImageTransformsConfig(**cfg.train.image_transforms)\n",
    "    )\n",
    "    if cfg.train.image_transforms\n",
    "    else None,\n",
    "    mask_transforms=get_mask_transforms(\n",
    "        ChestMaskTransformsConfig(**cfg.train.mask_transforms)\n",
    "    )\n",
    "    if cfg.train.mask_transforms\n",
    "    else None,\n",
    "    all_transforms=get_all_transforms(\n",
    "        ChestAllTransformsConfig(**cfg.train.all_transforms)\n",
    "    )\n",
    "    if cfg.train.all_transforms\n",
    "    else None,\n",
    ")\n",
    "train_loader, val_loader, test_loader = get_dataloaders(\n",
    "    dataset, dataset_config\n",
    ")\n",
    "model = get_model_from_config(cfg)\n",
    "criterion = get_loss(cfg)\n",
    "metrics = get_metrics(cfg)\n",
    "optimizer = get_optimizer(model, cfg)"
   ]
  },
  {
   "cell_type": "code",
   "execution_count": null,
   "metadata": {},
   "outputs": [],
   "source": [
    "train(\n",
    "    model, train_loader, val_loader, criterion, optimizer, metrics, cfg.train\n",
    ")"
   ]
  },
  {
   "cell_type": "markdown",
   "metadata": {},
   "source": [
    "# Test"
   ]
  },
  {
   "cell_type": "code",
   "execution_count": 14,
   "metadata": {},
   "outputs": [],
   "source": [
    "dataset.set_transforms(\n",
    "    image_transforms=get_image_transforms(\n",
    "        ChestImageTransformsConfig(**cfg.test.image_transforms)\n",
    "        if cfg.test.image_transforms\n",
    "        else None\n",
    "    ),\n",
    "    mask_transforms=get_mask_transforms(\n",
    "        ChestMaskTransformsConfig(**cfg.test.mask_transforms)\n",
    "        if cfg.test.mask_transforms\n",
    "        else None\n",
    "    ),\n",
    "    all_transforms=get_all_transforms(\n",
    "        ChestAllTransformsConfig(**cfg.test.all_transforms)\n",
    "        if cfg.test.all_transforms\n",
    "        else None\n",
    "    ),\n",
    ")\n",
    "train_loader, val_loader, test_loader = get_dataloaders(\n",
    "    dataset, dataset_config\n",
    ")"
   ]
  },
  {
   "cell_type": "code",
   "execution_count": null,
   "metadata": {},
   "outputs": [],
   "source": [
    "test(model, test_loader, criterion, metrics, cfg.test)"
   ]
  },
  {
   "cell_type": "markdown",
   "metadata": {},
   "source": [
    "# Evaluate"
   ]
  },
  {
   "cell_type": "code",
   "execution_count": null,
   "metadata": {},
   "outputs": [],
   "source": [
    "test_dataset = dataset.from_split(split=\"test\", config=dataset.config)\n",
    "idxes = list(range(5))\n",
    "preds = evaluate(model, test_dataset, idxes=idxes, device=cfg.device)\n",
    "visualize(preds, test_dataset, idxes=idxes)"
   ]
  },
  {
   "cell_type": "code",
   "execution_count": null,
   "metadata": {},
   "outputs": [],
   "source": []
  }
 ],
 "metadata": {
  "kernelspec": {
   "display_name": "Python 3 (ipykernel)",
   "language": "python",
   "name": "python3"
  },
  "language_info": {
   "codemirror_mode": {
    "name": "ipython",
    "version": 3
   },
   "file_extension": ".py",
   "mimetype": "text/x-python",
   "name": "python",
   "nbconvert_exporter": "python",
   "pygments_lexer": "ipython3",
   "version": "3.12.11"
  }
 },
 "nbformat": 4,
 "nbformat_minor": 2
}
